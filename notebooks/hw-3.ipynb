{
 "cells": [
  {
   "cell_type": "markdown",
   "source": [
    "## Easy"
   ],
   "metadata": {
    "collapsed": false
   },
   "id": "232b974738c4bd06"
  },
  {
   "cell_type": "code",
   "outputs": [],
   "source": [
    "import pandas as pd\n",
    "from sklearn.linear_model import LogisticRegression\n",
    "from sklearn.svm import SVC\n",
    "from sklearn.model_selection import train_test_split\n",
    "from sklearn.metrics import f1_score"
   ],
   "metadata": {
    "collapsed": false,
    "ExecuteTime": {
     "end_time": "2024-03-05T16:58:20.189062200Z",
     "start_time": "2024-03-05T16:58:13.618498300Z"
    }
   },
   "id": "b67ec250b4945114",
   "execution_count": 1
  },
  {
   "cell_type": "code",
   "outputs": [
    {
     "name": "stderr",
     "output_type": "stream",
     "text": [
      "C:\\Users\\PavelAgafonov\\miniconda3\\Lib\\site-packages\\sklearn\\linear_model\\_logistic.py:458: ConvergenceWarning: lbfgs failed to converge (status=1):\n",
      "STOP: TOTAL NO. of ITERATIONS REACHED LIMIT.\n",
      "\n",
      "Increase the number of iterations (max_iter) or scale the data as shown in:\n",
      "    https://scikit-learn.org/stable/modules/preprocessing.html\n",
      "Please also refer to the documentation for alternative solver options:\n",
      "    https://scikit-learn.org/stable/modules/linear_model.html#logistic-regression\n",
      "  n_iter_i = _check_optimize_result(\n"
     ]
    },
    {
     "data": {
      "text/plain": "0.9203417825122443"
     },
     "execution_count": 2,
     "metadata": {},
     "output_type": "execute_result"
    }
   ],
   "source": [
    "\n",
    "data = pd.read_pickle('train.pickle')\n",
    "labels_names = pd.read_csv('label_names.csv')\n",
    "X = data['features'].reshape(34799, 32*32*3) \n",
    "y = data['labels']\n",
    "\n",
    "model = LogisticRegression(max_iter=100)\n",
    "X_train, X_test, y_train, y_test = train_test_split(X, y)\n",
    "model.fit(X_train, y_train)\n",
    "\n",
    "y_pred = model.predict(X_test)\n",
    "\n",
    "f1_score(y_test, y_pred, average='weighted')\n"
   ],
   "metadata": {
    "collapsed": false,
    "ExecuteTime": {
     "end_time": "2024-03-05T16:58:55.643257100Z",
     "start_time": "2024-03-05T16:58:20.190132800Z"
    }
   },
   "id": "8f0497f8b00b3339",
   "execution_count": 2
  },
  {
   "cell_type": "markdown",
   "source": [
    "## Medium\n",
    "Обучить и сравнить между собой:\n",
    "\n",
    "- логистическая регрессия\n",
    "- kNN\n",
    "- НБК\n",
    "- SVM (попробовать 3 разных ядра)"
   ],
   "metadata": {
    "collapsed": false
   },
   "id": "72725caea3396714"
  },
  {
   "cell_type": "markdown",
   "source": [
    "KNN"
   ],
   "metadata": {
    "collapsed": false
   },
   "id": "958eb05e20d951"
  },
  {
   "cell_type": "code",
   "outputs": [
    {
     "data": {
      "text/plain": "0.8718281895871922"
     },
     "execution_count": 3,
     "metadata": {},
     "output_type": "execute_result"
    }
   ],
   "source": [
    "from sklearn.neighbors import KNeighborsClassifier\n",
    "\n",
    "\n",
    "clf = KNeighborsClassifier()\n",
    "\n",
    "clf.fit(X_train, y_train)\n",
    "\n",
    "y_pred = clf.predict(X_test)\n",
    "\n",
    "f1_score(y_test, y_pred, average='weighted')\n"
   ],
   "metadata": {
    "collapsed": false,
    "ExecuteTime": {
     "end_time": "2024-03-05T16:59:22.665923Z",
     "start_time": "2024-03-05T16:58:55.636255100Z"
    }
   },
   "id": "363ee1b62eddc6b7",
   "execution_count": 3
  },
  {
   "cell_type": "markdown",
   "source": [
    "НБК"
   ],
   "metadata": {
    "collapsed": false
   },
   "id": "8cd3bd3e02c0b01a"
  },
  {
   "cell_type": "code",
   "outputs": [],
   "source": [],
   "metadata": {
    "collapsed": false,
    "ExecuteTime": {
     "end_time": "2024-03-05T16:59:22.682193300Z",
     "start_time": "2024-03-05T16:59:22.665923Z"
    }
   },
   "id": "29149e64c63b97f9",
   "execution_count": 3
  },
  {
   "cell_type": "code",
   "outputs": [
    {
     "data": {
      "text/plain": "0.17443369179175564"
     },
     "execution_count": 4,
     "metadata": {},
     "output_type": "execute_result"
    }
   ],
   "source": [
    "from sklearn.naive_bayes import GaussianNB\n",
    "clf = GaussianNB()\n",
    "\n",
    "clf.fit(X_train, y_train)\n",
    "\n",
    "y_pred = clf.predict(X_test)\n",
    "\n",
    "f1_score(y_test, y_pred, average='weighted')"
   ],
   "metadata": {
    "collapsed": false,
    "ExecuteTime": {
     "end_time": "2024-03-05T16:59:36.755883Z",
     "start_time": "2024-03-05T16:59:22.674157900Z"
    }
   },
   "id": "e5b069ea772a4997",
   "execution_count": 4
  },
  {
   "cell_type": "markdown",
   "source": [
    "SVM"
   ],
   "metadata": {
    "collapsed": false
   },
   "id": "78088ed325cd4527"
  },
  {
   "cell_type": "code",
   "outputs": [
    {
     "data": {
      "text/plain": "0.9606586865204654"
     },
     "execution_count": 5,
     "metadata": {},
     "output_type": "execute_result"
    }
   ],
   "source": [
    "model1 = SVC(kernel='linear')\n",
    "model1.fit(X_train, y_train)\n",
    "\n",
    "y_pred = model1.predict(X_test)\n",
    "\n",
    "f1_score(y_test, y_pred, average='weighted')"
   ],
   "metadata": {
    "collapsed": false,
    "ExecuteTime": {
     "end_time": "2024-03-05T17:05:47.872981500Z",
     "start_time": "2024-03-05T16:59:36.760404100Z"
    }
   },
   "id": "9822c8125501cc01",
   "execution_count": 5
  },
  {
   "cell_type": "code",
   "outputs": [
    {
     "data": {
      "text/plain": "0.7503012835467308"
     },
     "execution_count": 6,
     "metadata": {},
     "output_type": "execute_result"
    }
   ],
   "source": [
    "model2 = SVC(kernel='poly')\n",
    "model2.fit(X_train, y_train)\n",
    "\n",
    "y_pred = model2.predict(X_test)\n",
    "\n",
    "f1_score(y_test, y_pred, average='weighted')"
   ],
   "metadata": {
    "collapsed": false,
    "ExecuteTime": {
     "end_time": "2024-03-05T17:21:09.421603900Z",
     "start_time": "2024-03-05T17:05:47.849821600Z"
    }
   },
   "id": "9e398050e62fc456",
   "execution_count": 6
  },
  {
   "cell_type": "code",
   "outputs": [
    {
     "data": {
      "text/plain": "0.8821745140506857"
     },
     "execution_count": 7,
     "metadata": {},
     "output_type": "execute_result"
    }
   ],
   "source": [
    "model3 = SVC(kernel='rbf')\n",
    "model3.fit(X_train, y_train)\n",
    "\n",
    "y_pred = model3.predict(X_test)\n",
    "\n",
    "f1_score(y_test, y_pred, average='weighted')"
   ],
   "metadata": {
    "collapsed": false,
    "ExecuteTime": {
     "end_time": "2024-03-05T17:41:05.360632900Z",
     "start_time": "2024-03-05T17:21:09.427105900Z"
    }
   },
   "id": "42f53f394cb1cdeb",
   "execution_count": 7
  },
  {
   "cell_type": "code",
   "outputs": [],
   "source": [],
   "metadata": {
    "collapsed": false,
    "ExecuteTime": {
     "end_time": "2024-03-05T17:41:05.373506400Z",
     "start_time": "2024-03-05T17:41:05.360632900Z"
    }
   },
   "id": "c5f53c7af01d5f94",
   "execution_count": 7
  },
  {
   "cell_type": "markdown",
   "source": [
    "RBF отработал хуже линейного ядра, что знаки ограничения скорости плохо отличаются друг оn друга. Про полиномиальное ядро можно сказать,что есть проблема переобучения.\n",
    "В целом, LogisticRegression отлично справлялся с задачей \n",
    "НБК не подходит для данной задачи, есть коллизия классов"
   ],
   "metadata": {
    "collapsed": false
   },
   "id": "5a6ad0451b020889"
  },
  {
   "cell_type": "code",
   "outputs": [],
   "source": [],
   "metadata": {
    "collapsed": false,
    "ExecuteTime": {
     "end_time": "2024-03-05T17:41:05.373506400Z",
     "start_time": "2024-03-05T17:41:05.366792500Z"
    }
   },
   "id": "d9e5e63f31d4736b",
   "execution_count": 7
  }
 ],
 "metadata": {
  "kernelspec": {
   "display_name": "Python 3",
   "language": "python",
   "name": "python3"
  },
  "language_info": {
   "codemirror_mode": {
    "name": "ipython",
    "version": 2
   },
   "file_extension": ".py",
   "mimetype": "text/x-python",
   "name": "python",
   "nbconvert_exporter": "python",
   "pygments_lexer": "ipython2",
   "version": "2.7.6"
  }
 },
 "nbformat": 4,
 "nbformat_minor": 5
}
