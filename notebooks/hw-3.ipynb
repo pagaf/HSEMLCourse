{
 "cells": [
  {
   "cell_type": "markdown",
   "id": "6d620d8c-63b8-4d3f-9fdb-f87d96def4a9",
   "metadata": {
    "collapsed": false,
    "jupyter": {
     "outputs_hidden": false
    }
   },
   "source": [
    "## Easy"
   ]
  },
  {
   "cell_type": "code",
   "execution_count": null,
   "id": "b67ec250b4945114",
   "metadata": {
    "ExecuteTime": {
     "end_time": "2024-03-15T14:10:34.139527700Z",
     "start_time": "2024-03-15T14:10:33.220299500Z"
    },
    "collapsed": false,
    "jupyter": {
     "outputs_hidden": false
    }
   },
   "outputs": [],
   "source": [
    "import pandas as pd\n",
    "from sklearn.linear_model import LogisticRegression\n",
    "from sklearn.svm import SVC\n",
    "from sklearn.model_selection import train_test_split\n",
    "from sklearn.metrics import f1_score\n",
    "import matplotlib.pyplot as plt"
   ]
  },
  {
   "cell_type": "code",
   "execution_count": null,
   "id": "8f0497f8b00b3339",
   "metadata": {
    "ExecuteTime": {
     "end_time": "2024-03-14T20:01:01.817374100Z",
     "start_time": "2024-03-14T20:00:23.437888200Z"
    },
    "collapsed": false,
    "jupyter": {
     "outputs_hidden": false
    }
   },
   "outputs": [],
   "source": [
    "\n",
    "data = pd.read_pickle('train.pickle')\n",
    "labels_names = pd.read_csv('label_names.csv')\n",
    "X = data['features'].reshape(34799, 32*32*3) \n",
    "y = data['labels']\n",
    "\n",
    "model = LogisticRegression(max_iter=100)\n",
    "X_train, X_test, y_train, y_test = train_test_split(X, y)\n",
    "model.fit(X_train, y_train)\n",
    "\n",
    "y_pred = model.predict(X_test)\n",
    "\n",
    "f1_score(y_test, y_pred, average='weighted')\n"
   ]
  },
  {
   "cell_type": "code",
   "execution_count": null,
   "id": "673598636c1a7f56",
   "metadata": {
    "ExecuteTime": {
     "end_time": "2024-03-14T20:01:04.904181Z",
     "start_time": "2024-03-14T20:01:01.818420700Z"
    },
    "collapsed": false,
    "jupyter": {
     "outputs_hidden": false
    }
   },
   "outputs": [],
   "source": [
    "from sklearn.metrics import confusion_matrix, ConfusionMatrixDisplay\n",
    "\n",
    "m = confusion_matrix(y_test, y_pred)\n",
    "for i in range(43):\n",
    "    print(i, m[i])\n",
    "dp = ConfusionMatrixDisplay(m)\n",
    "dp.plot()\n",
    "plt.rcParams[\"figure.figsize\"] = (30,30)\n",
    "plt.show()"
   ]
  },
  {
   "cell_type": "code",
   "execution_count": null,
   "id": "59e095e590dd7638",
   "metadata": {
    "ExecuteTime": {
     "end_time": "2024-03-14T20:01:05.049419300Z",
     "start_time": "2024-03-14T20:01:04.908662Z"
    },
    "collapsed": false,
    "jupyter": {
     "outputs_hidden": false
    }
   },
   "outputs": [],
   "source": [
    "pd.read_csv('label_names.csv')"
   ]
  },
  {
   "cell_type": "markdown",
   "id": "6bd97ef1d0aa69ee",
   "metadata": {
    "collapsed": false,
    "jupyter": {
     "outputs_hidden": false
    }
   },
   "source": [
    "Модель больше всего путает знаки ограничения скорости,могу предположить,что это из-за отличия лишь в числах на знаках."
   ]
  },
  {
   "cell_type": "markdown",
   "id": "aa52a7a3bab7955f",
   "metadata": {
    "collapsed": false,
    "jupyter": {
     "outputs_hidden": false
    }
   },
   "source": []
  },
  {
   "cell_type": "code",
   "execution_count": null,
   "id": "5f031f670dcdb53e",
   "metadata": {
    "ExecuteTime": {
     "end_time": "2024-03-14T20:01:05.075523300Z",
     "start_time": "2024-03-14T20:01:04.940812200Z"
    },
    "collapsed": false,
    "jupyter": {
     "outputs_hidden": false
    }
   },
   "outputs": [],
   "source": []
  },
  {
   "cell_type": "markdown",
   "id": "72725caea3396714",
   "metadata": {
    "collapsed": false,
    "jupyter": {
     "outputs_hidden": false
    }
   },
   "source": [
    "## Medium\n",
    "Обучить и сравнить между собой:\n",
    "\n",
    "- логистическая регрессия\n",
    "- kNN\n",
    "- НБК\n",
    "- SVM (попробовать 3 разных ядра)"
   ]
  },
  {
   "cell_type": "markdown",
   "id": "958eb05e20d951",
   "metadata": {
    "collapsed": false,
    "jupyter": {
     "outputs_hidden": false
    }
   },
   "source": [
    "KNN"
   ]
  },
  {
   "cell_type": "code",
   "execution_count": null,
   "id": "363ee1b62eddc6b7",
   "metadata": {
    "ExecuteTime": {
     "end_time": "2024-03-14T20:01:34.216818100Z",
     "start_time": "2024-03-14T20:01:04.952225700Z"
    },
    "collapsed": false,
    "jupyter": {
     "outputs_hidden": false
    }
   },
   "outputs": [],
   "source": [
    "from sklearn.neighbors import KNeighborsClassifier\n",
    "\n",
    "\n",
    "clf = KNeighborsClassifier()\n",
    "\n",
    "clf.fit(X_train, y_train)\n",
    "\n",
    "y_pred = clf.predict(X_test)\n",
    "\n",
    "f1_score(y_test, y_pred, average='weighted')\n"
   ]
  },
  {
   "cell_type": "code",
   "execution_count": null,
   "id": "c099bf8131280417",
   "metadata": {
    "ExecuteTime": {
     "end_time": "2024-03-14T20:01:37.998440300Z",
     "start_time": "2024-03-14T20:01:34.231955300Z"
    },
    "collapsed": false,
    "jupyter": {
     "outputs_hidden": false
    }
   },
   "outputs": [],
   "source": [
    "m = confusion_matrix(y_test, y_pred)\n",
    "dp = ConfusionMatrixDisplay(m)\n",
    "dp.plot()\n",
    "plt.rcParams[\"figure.figsize\"] = (30,30)\n",
    "plt.show()"
   ]
  },
  {
   "cell_type": "markdown",
   "id": "8cd3bd3e02c0b01a",
   "metadata": {
    "collapsed": false,
    "jupyter": {
     "outputs_hidden": false
    }
   },
   "source": [
    "НБК"
   ]
  },
  {
   "cell_type": "code",
   "execution_count": null,
   "id": "29149e64c63b97f9",
   "metadata": {
    "ExecuteTime": {
     "end_time": "2024-03-14T20:01:38.014460300Z",
     "start_time": "2024-03-14T20:01:37.998440300Z"
    },
    "collapsed": false,
    "jupyter": {
     "outputs_hidden": false
    }
   },
   "outputs": [],
   "source": []
  },
  {
   "cell_type": "code",
   "execution_count": null,
   "id": "e5b069ea772a4997",
   "metadata": {
    "ExecuteTime": {
     "end_time": "2024-03-14T20:01:51.679203700Z",
     "start_time": "2024-03-14T20:01:38.009207200Z"
    },
    "collapsed": false,
    "jupyter": {
     "outputs_hidden": false
    }
   },
   "outputs": [],
   "source": [
    "from sklearn.naive_bayes import GaussianNB\n",
    "clf = GaussianNB()\n",
    "\n",
    "clf.fit(X_train, y_train)\n",
    "\n",
    "y_pred = clf.predict(X_test)\n",
    "\n",
    "f1_score(y_test, y_pred, average='weighted')"
   ]
  },
  {
   "cell_type": "code",
   "execution_count": null,
   "id": "177b28d1fbe833a6",
   "metadata": {
    "ExecuteTime": {
     "end_time": "2024-03-14T20:01:55.009066300Z",
     "start_time": "2024-03-14T20:01:51.670379500Z"
    },
    "collapsed": false,
    "jupyter": {
     "outputs_hidden": false
    }
   },
   "outputs": [],
   "source": [
    "m = confusion_matrix(y_test, y_pred)\n",
    "dp = ConfusionMatrixDisplay(m)\n",
    "dp.plot()\n",
    "plt.rcParams[\"figure.figsize\"] = (30,30)\n",
    "plt.show()"
   ]
  },
  {
   "cell_type": "markdown",
   "id": "78088ed325cd4527",
   "metadata": {
    "collapsed": false,
    "jupyter": {
     "outputs_hidden": false
    }
   },
   "source": [
    "SVM"
   ]
  },
  {
   "cell_type": "code",
   "execution_count": null,
   "id": "9822c8125501cc01",
   "metadata": {
    "ExecuteTime": {
     "end_time": "2024-03-14T20:08:28.224187500Z",
     "start_time": "2024-03-14T20:01:55.047868400Z"
    },
    "collapsed": false,
    "jupyter": {
     "outputs_hidden": false
    }
   },
   "outputs": [],
   "source": [
    "model1 = SVC(kernel='linear')\n",
    "model1.fit(X_train, y_train)\n",
    "\n",
    "y_pred = model1.predict(X_test)\n",
    "\n",
    "f1_score(y_test, y_pred, average='weighted')"
   ]
  },
  {
   "cell_type": "code",
   "execution_count": null,
   "id": "94e94e76b448bb25",
   "metadata": {
    "ExecuteTime": {
     "end_time": "2024-03-14T20:08:31.697331900Z",
     "start_time": "2024-03-14T20:08:28.214157700Z"
    },
    "collapsed": false,
    "jupyter": {
     "outputs_hidden": false
    }
   },
   "outputs": [],
   "source": [
    "m = confusion_matrix(y_test, y_pred)\n",
    "dp = ConfusionMatrixDisplay(m)\n",
    "dp.plot()\n",
    "plt.rcParams[\"figure.figsize\"] = (30,30)\n",
    "plt.show()"
   ]
  },
  {
   "cell_type": "code",
   "execution_count": null,
   "id": "9e398050e62fc456",
   "metadata": {
    "ExecuteTime": {
     "end_time": "2024-03-14T20:23:43.131470700Z",
     "start_time": "2024-03-14T20:08:31.699332500Z"
    },
    "collapsed": false,
    "jupyter": {
     "outputs_hidden": false
    }
   },
   "outputs": [],
   "source": [
    "model2 = SVC(kernel='poly')\n",
    "model2.fit(X_train, y_train)\n",
    "\n",
    "y_pred = model2.predict(X_test)\n",
    "\n",
    "f1_score(y_test, y_pred, average='weighted')"
   ]
  },
  {
   "cell_type": "code",
   "execution_count": null,
   "id": "da94b595c2de993",
   "metadata": {
    "ExecuteTime": {
     "end_time": "2024-03-14T20:23:45.638051200Z",
     "start_time": "2024-03-14T20:23:43.091228300Z"
    },
    "collapsed": false,
    "jupyter": {
     "outputs_hidden": false
    }
   },
   "outputs": [],
   "source": [
    "m = confusion_matrix(y_test, y_pred)\n",
    "dp = ConfusionMatrixDisplay(m)\n",
    "dp.plot()\n",
    "plt.rcParams[\"figure.figsize\"] = (30,30)\n",
    "plt.show()"
   ]
  },
  {
   "cell_type": "code",
   "execution_count": null,
   "id": "42f53f394cb1cdeb",
   "metadata": {
    "ExecuteTime": {
     "end_time": "2024-03-14T20:41:19.984836800Z",
     "start_time": "2024-03-14T20:23:45.647154600Z"
    },
    "collapsed": false,
    "jupyter": {
     "outputs_hidden": false
    }
   },
   "outputs": [],
   "source": [
    "model3 = SVC(kernel='rbf')\n",
    "model3.fit(X_train, y_train)\n",
    "\n",
    "y_pred = model3.predict(X_test)\n",
    "\n",
    "f1_score(y_test, y_pred, average='weighted')"
   ]
  },
  {
   "cell_type": "code",
   "execution_count": null,
   "id": "c5f53c7af01d5f94",
   "metadata": {
    "ExecuteTime": {
     "end_time": "2024-03-14T20:41:22.553095400Z",
     "start_time": "2024-03-14T20:41:19.980409100Z"
    },
    "collapsed": false,
    "jupyter": {
     "outputs_hidden": false
    }
   },
   "outputs": [],
   "source": [
    "m = confusion_matrix(y_test, y_pred)\n",
    "dp = ConfusionMatrixDisplay(m)\n",
    "dp.plot()\n",
    "plt.rcParams[\"figure.figsize\"] = (30,30)\n",
    "plt.show()"
   ]
  },
  {
   "cell_type": "markdown",
   "id": "5a6ad0451b020889",
   "metadata": {
    "collapsed": false,
    "jupyter": {
     "outputs_hidden": false
    }
   },
   "source": [
    "RBF отработал хуже линейного ядра,можно предположить,что проблема в том,что знаки ограничения скорости плохо отличаются друг от друга. Про полиномиальное ядро может просто переобучиться.\n",
    "Проблема НБК,в том,что если фичи независимы,то он работает хорошо,но это не та задача)\n",
    "И судя по всему, тут линейные зависимости между пикселями и целевой переменной\n",
    "В целом, LogisticRegression отлично справлялся с задачей.\n",
    "Еще любопытно, что rbf и poly часто путают правильные классов с 10 классом."
   ]
  },
  {
   "cell_type": "code",
   "execution_count": null,
   "id": "6f0797c64927d884",
   "metadata": {
    "collapsed": false,
    "jupyter": {
     "outputs_hidden": false
    }
   },
   "outputs": [],
   "source": []
  },
  {
   "cell_type": "code",
   "execution_count": null,
   "id": "d9e5e63f31d4736b",
   "metadata": {
    "ExecuteTime": {
     "end_time": "2024-03-14T20:41:22.563340400Z",
     "start_time": "2024-03-14T20:41:22.554907100Z"
    },
    "collapsed": false,
    "jupyter": {
     "outputs_hidden": false
    }
   },
   "outputs": [],
   "source": []
  }
 ],
 "metadata": {
  "kernelspec": {
   "display_name": "Python 3 (ipykernel)",
   "language": "python",
   "name": "python3"
  },
  "language_info": {
   "codemirror_mode": {
    "name": "ipython",
    "version": 3
   },
   "file_extension": ".py",
   "mimetype": "text/x-python",
   "name": "python",
   "nbconvert_exporter": "python",
   "pygments_lexer": "ipython3",
   "version": "3.11.5"
  }
 },
 "nbformat": 4,
 "nbformat_minor": 5
}
