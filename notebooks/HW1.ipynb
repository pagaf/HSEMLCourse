{
 "cells": [
  {
   "cell_type": "code",
   "execution_count": 22,
   "id": "initial_id",
   "metadata": {
    "collapsed": true,
    "ExecuteTime": {
     "end_time": "2024-01-25T21:05:05.990162200Z",
     "start_time": "2024-01-25T21:05:05.956978500Z"
    }
   },
   "outputs": [],
   "source": [
    "def func(array):\n",
    "    mean = sum(array) / len(array)\n",
    "    array.sort()\n",
    "    median_index = len(array) // 2\n",
    "    median = array[median_index]\n",
    "\n",
    "    if len(array) % 2 == 0:\n",
    "        median = (median + array[median_index - 1]) / 2\n",
    "\n",
    "    mode = max(set(array), key=array.count)\n",
    "    return {\"mean\": mean, \"median\": median, \"mode\": mode}"
   ]
  },
  {
   "cell_type": "code",
   "outputs": [
    {
     "data": {
      "text/plain": "{'mean': 3.4285714285714284, 'median': 3, 'mode': 1}"
     },
     "execution_count": 23,
     "metadata": {},
     "output_type": "execute_result"
    }
   ],
   "source": [
    "func([0, 1, 1, 10, 5, 4, 3])"
   ],
   "metadata": {
    "collapsed": false,
    "ExecuteTime": {
     "end_time": "2024-01-25T21:05:06.098878200Z",
     "start_time": "2024-01-25T21:05:05.973505100Z"
    }
   },
   "id": "a255f562e3cd19ec",
   "execution_count": 23
  },
  {
   "cell_type": "code",
   "outputs": [],
   "source": [
    "with open('dota_hero_stats.csv', 'r') as file:\n",
    "    dota = file.read()"
   ],
   "metadata": {
    "collapsed": false,
    "ExecuteTime": {
     "end_time": "2024-01-25T21:05:06.129484600Z",
     "start_time": "2024-01-25T21:05:06.004881800Z"
    }
   },
   "id": "690e36384738d148",
   "execution_count": 24
  },
  {
   "cell_type": "code",
   "outputs": [],
   "source": [
    "\n",
    "def parse_csv(file_content: str):\n",
    "    lines = file_content.strip().split('\\n')\n",
    "    data = []\n",
    "\n",
    "    for line in lines[1:]:\n",
    "        values = line.split(',')\n",
    "        tpl = tuple(values)\n",
    "        data.append(tpl)\n",
    "\n",
    "    return data"
   ],
   "metadata": {
    "collapsed": false,
    "ExecuteTime": {
     "end_time": "2024-01-25T21:05:06.217362400Z",
     "start_time": "2024-01-25T21:05:06.117960100Z"
    }
   },
   "id": "a3d9d50439873db5",
   "execution_count": 25
  },
  {
   "cell_type": "code",
   "outputs": [],
   "source": [
    "def find_max_legs(heroes):\n",
    "    max_legs = 0\n",
    "    max_legs_hero = None\n",
    "\n",
    "    for hero in heroes:\n",
    "        legs = int(hero[3])\n",
    "        if legs > max_legs:\n",
    "            max_legs = legs\n",
    "            max_legs_hero = hero\n",
    "\n",
    "    return max_legs_hero\n"
   ],
   "metadata": {
    "collapsed": false,
    "ExecuteTime": {
     "end_time": "2024-01-25T21:05:06.244360600Z",
     "start_time": "2024-01-25T21:05:06.178349600Z"
    }
   },
   "id": "17e1500da0035732",
   "execution_count": 26
  },
  {
   "cell_type": "code",
   "outputs": [
    {
     "name": "stdout",
     "output_type": "stream",
     "text": [
      "Broodmother\n"
     ]
    }
   ],
   "source": [
    "data = parse_csv(dota)\n",
    "max_legs_hero = find_max_legs(data)\n",
    "print(max_legs_hero[4])"
   ],
   "metadata": {
    "collapsed": false,
    "ExecuteTime": {
     "end_time": "2024-01-25T21:05:06.305394500Z",
     "start_time": "2024-01-25T21:05:06.264394500Z"
    }
   },
   "id": "9cdfd92c731a6c79",
   "execution_count": 27
  }
 ],
 "metadata": {
  "kernelspec": {
   "display_name": "Python 3",
   "language": "python",
   "name": "python3"
  },
  "language_info": {
   "codemirror_mode": {
    "name": "ipython",
    "version": 2
   },
   "file_extension": ".py",
   "mimetype": "text/x-python",
   "name": "python",
   "nbconvert_exporter": "python",
   "pygments_lexer": "ipython2",
   "version": "2.7.6"
  }
 },
 "nbformat": 4,
 "nbformat_minor": 5
}
