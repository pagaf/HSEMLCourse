{
 "cells": [
  {
   "cell_type": "code",
   "execution_count": 1,
   "id": "initial_id",
   "metadata": {
    "collapsed": true,
    "ExecuteTime": {
     "end_time": "2024-02-03T11:19:53.906230800Z",
     "start_time": "2024-02-03T11:19:53.806881600Z"
    }
   },
   "outputs": [],
   "source": [
    "def func(array):\n",
    "    mean = sum(array) / len(array)\n",
    "    array.sort()\n",
    "    median_index = len(array) // 2\n",
    "    median = array[median_index]\n",
    "\n",
    "    if len(array) % 2 == 0:\n",
    "        median = (median + array[median_index - 1]) / 2\n",
    "\n",
    "    mode = max(set(array), key=array.count)\n",
    "    return {\"mean\": mean, \"median\": median, \"mode\": mode}"
   ]
  },
  {
   "cell_type": "code",
   "outputs": [
    {
     "data": {
      "text/plain": "{'mean': 1.75, 'median': 1.5, 'mode': 0}"
     },
     "execution_count": 2,
     "metadata": {},
     "output_type": "execute_result"
    }
   ],
   "source": [
    "func([0, 1,2,4])"
   ],
   "metadata": {
    "collapsed": false,
    "ExecuteTime": {
     "end_time": "2024-02-03T11:19:53.989816800Z",
     "start_time": "2024-02-03T11:19:53.859736600Z"
    }
   },
   "id": "64a9d0adff0e4118",
   "execution_count": 2
  },
  {
   "cell_type": "code",
   "outputs": [
    {
     "data": {
      "text/plain": "{'mean': 3.4285714285714284, 'median': 3, 'mode': 1}"
     },
     "execution_count": 3,
     "metadata": {},
     "output_type": "execute_result"
    }
   ],
   "source": [
    "func([0, 1, 1, 10, 5, 4, 3])"
   ],
   "metadata": {
    "collapsed": false,
    "ExecuteTime": {
     "end_time": "2024-02-03T11:19:54.068817200Z",
     "start_time": "2024-02-03T11:19:53.872733400Z"
    }
   },
   "id": "a255f562e3cd19ec",
   "execution_count": 3
  },
  {
   "cell_type": "code",
   "outputs": [],
   "source": [
    "with open('dota_hero_stats.csv', 'r') as file:\n",
    "    dota = file.read()"
   ],
   "metadata": {
    "collapsed": false,
    "ExecuteTime": {
     "end_time": "2024-02-03T11:19:54.072823400Z",
     "start_time": "2024-02-03T11:19:53.891348500Z"
    }
   },
   "id": "690e36384738d148",
   "execution_count": 4
  },
  {
   "cell_type": "code",
   "outputs": [],
   "source": [
    "\n",
    "def parse_csv(file_content: str):\n",
    "    lines = file_content.strip().split('\\n')\n",
    "    data = []\n",
    "\n",
    "    for line in lines[1:]:\n",
    "        values = line.split(',')\n",
    "        tpl = tuple(values)\n",
    "        data.append(tpl)\n",
    "\n",
    "    return data"
   ],
   "metadata": {
    "collapsed": false,
    "ExecuteTime": {
     "end_time": "2024-02-03T11:19:54.128816400Z",
     "start_time": "2024-02-03T11:19:53.916227300Z"
    }
   },
   "id": "a3d9d50439873db5",
   "execution_count": 5
  },
  {
   "cell_type": "code",
   "outputs": [],
   "source": [
    "def find_max_legs(heroes):\n",
    "    max_legs = 0\n",
    "    max_legs_hero = None\n",
    "\n",
    "    for hero in heroes:\n",
    "        legs = int(hero[3])\n",
    "        if legs > max_legs:\n",
    "            max_legs = legs\n",
    "            max_legs_hero = hero\n",
    "\n",
    "    return max_legs_hero\n"
   ],
   "metadata": {
    "collapsed": false,
    "ExecuteTime": {
     "end_time": "2024-02-03T11:19:54.380369200Z",
     "start_time": "2024-02-03T11:19:54.141765600Z"
    }
   },
   "id": "17e1500da0035732",
   "execution_count": 6
  },
  {
   "cell_type": "code",
   "outputs": [
    {
     "name": "stdout",
     "output_type": "stream",
     "text": [
      "Broodmother\n"
     ]
    }
   ],
   "source": [
    "data = parse_csv(dota)\n",
    "max_legs_hero = find_max_legs(data)\n",
    "print(max_legs_hero[4])"
   ],
   "metadata": {
    "collapsed": false,
    "ExecuteTime": {
     "end_time": "2024-02-03T11:19:54.577654100Z",
     "start_time": "2024-02-03T11:19:54.337763800Z"
    }
   },
   "id": "9cdfd92c731a6c79",
   "execution_count": 7
  },
  {
   "cell_type": "code",
   "outputs": [
    {
     "name": "stdout",
     "output_type": "stream",
     "text": [
      "Most similar characters: Axe 1 and Tidehunter 27\n",
      "Metrics 4.0\n",
      "Metrics 4.0\n"
     ]
    }
   ],
   "source": [
    "def calculate_similarity(char1, char2):\n",
    "    similarity = 0\n",
    "    if char1[1] == char2[1]:\n",
    "        similarity += 1\n",
    "    legs_similarity = 0\n",
    "    if char1[3] != '0' and char2[3] != '0':\n",
    "        legs_similarity = min(int(char1[3]), int(char2[3])) / max(int(char1[3]), int(char2[3]))\n",
    "    similarity += legs_similarity\n",
    "    if char1[6] == char2[6]:\n",
    "        similarity += 1\n",
    "    roles1 = set(char1[7][1:-1].split(', '))\n",
    "    roles2 = set(char2[7][1:-1].split(', '))\n",
    "    roles_similarity = len(roles1.intersection(roles2))\n",
    "    similarity += roles_similarity\n",
    "    \n",
    "    return similarity\n",
    "\n",
    "def find_most_similar_pair(heroes_data):\n",
    "    most_similar_pair = None\n",
    "    max_similarity = -1\n",
    "    for i in range(1, len(heroes_data)):\n",
    "        for j in range(i + 1, len(heroes_data)):\n",
    "            similarity = calculate_similarity(heroes_data[i], heroes_data[j])\n",
    "            if similarity > max_similarity:\n",
    "                max_similarity = similarity\n",
    "                most_similar_pair = (heroes_data[i], heroes_data[j])\n",
    "                \n",
    "    return most_similar_pair\n",
    "\n",
    "with open('dota_hero_stats.csv', 'r') as file:\n",
    "    data_content = file.read()\n",
    "\n",
    "heroes_data = parse_csv(dota)\n",
    "\n",
    "most_similar_pair = find_most_similar_pair(heroes_data)\n",
    "\n",
    "print(\"Most similar characters:\" , most_similar_pair[0][4] ,most_similar_pair[0][0] ,\"and\", most_similar_pair[1][4],most_similar_pair[1][0] )\n",
    "print(\"Metrics\",calculate_similarity(most_similar_pair[0],most_similar_pair[1]))\n",
    "print(\"Metrics\",calculate_similarity(most_similar_pair[0],most_similar_pair[1]))"
   ],
   "metadata": {
    "collapsed": false,
    "ExecuteTime": {
     "end_time": "2024-02-03T11:19:54.626651Z",
     "start_time": "2024-02-03T11:19:54.476365500Z"
    }
   },
   "id": "f4444cc4f6548751",
   "execution_count": 8
  },
  {
   "cell_type": "code",
   "outputs": [],
   "source": [],
   "metadata": {
    "collapsed": false,
    "ExecuteTime": {
     "end_time": "2024-02-03T11:19:54.859951900Z",
     "start_time": "2024-02-03T11:19:54.626651Z"
    }
   },
   "id": "a76a4c590d8dc516",
   "execution_count": 8
  }
 ],
 "metadata": {
  "kernelspec": {
   "display_name": "Python 3",
   "language": "python",
   "name": "python3"
  },
  "language_info": {
   "codemirror_mode": {
    "name": "ipython",
    "version": 2
   },
   "file_extension": ".py",
   "mimetype": "text/x-python",
   "name": "python",
   "nbconvert_exporter": "python",
   "pygments_lexer": "ipython2",
   "version": "2.7.6"
  }
 },
 "nbformat": 4,
 "nbformat_minor": 5
}
