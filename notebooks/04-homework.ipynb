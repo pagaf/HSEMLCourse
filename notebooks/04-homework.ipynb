{
 "cells": [
  {
   "cell_type": "markdown",
   "source": [
    "## Easy\n",
    "\n",
    "Построить прогноз по одной марке машин при помощи решающих деревьев, взять только числовые признаки. В качестве метрики взять `r2_score`. Оценить важность признаков, проинтерпретировать модель.\n",
    "\n",
    "## Normal\n",
    "\n",
    "Объединить в один датафрейм данные по всем маркам машин. Преобразовать категориальные признаки.\n",
    "\n",
    "Построить еще несколько моделей, используя подбор гиперпараметров. Сравнить между собой все построенные модели.\n",
    "\n",
    "## Hard\n",
    "\n",
    "Собрать датасет по одной модели на любом агрегаторе объявлений (модель должна быть из датасета). Сравнить какие признаки наиболее важны на нашем рынке, по сравнению с рынком в UK.\n",
    "\n",
    "Сервисы не любят парсеры, поэтому скорее всего в автоматическом режиме не получится распарсить много данных. По-крайней мере, у меня не получилось как-то быстро обойти капчу. Поэтому:\n",
    "\n",
    "- Можно вручную вбить в эксельку данные по нескольким десяткам машин\n",
    "- Можно скачать несколько html и написать скрипт для их парсинга (можно использовать beautiful soup) - в таком подходе ожидаю больше сотни примеров\n",
    "- Можно найти агрегатор без капчи или апишку (примеры - телеграм каналы, VK API) и собрать данные оттуда"
   ],
   "metadata": {
    "collapsed": false
   },
   "id": "e286981db1a7a81d"
  },
  {
   "cell_type": "markdown",
   "source": [
    "## Easy"
   ],
   "metadata": {
    "collapsed": false
   },
   "id": "c599faf49c1f3e74"
  },
  {
   "cell_type": "code",
   "execution_count": 1,
   "id": "initial_id",
   "metadata": {
    "collapsed": true,
    "ExecuteTime": {
     "end_time": "2024-03-20T20:26:48.368022Z",
     "start_time": "2024-03-20T20:26:47.755804900Z"
    }
   },
   "outputs": [],
   "source": [
    "import numpy as np\n",
    "import matplotlib.pyplot as plt\n",
    "import seaborn as sns\n",
    "from sklearn.model_selection import train_test_split\n",
    "import pandas as pd\n"
   ]
  },
  {
   "cell_type": "code",
   "outputs": [],
   "source": [
    "data=pd.read_csv(\"audi.csv\",sep=',')\n"
   ],
   "metadata": {
    "collapsed": false,
    "ExecuteTime": {
     "end_time": "2024-03-20T20:26:48.440357200Z",
     "start_time": "2024-03-20T20:26:48.377500400Z"
    }
   },
   "id": "d9ae69465d5fc38d",
   "execution_count": 2
  },
  {
   "cell_type": "code",
   "outputs": [
    {
     "data": {
      "text/plain": "0.9134150265264636"
     },
     "execution_count": 3,
     "metadata": {},
     "output_type": "execute_result"
    }
   ],
   "source": [
    "from sklearn.metrics import r2_score\n",
    "from sklearn.tree import DecisionTreeClassifier, DecisionTreeRegressor\n",
    "\n",
    "X = data.drop(columns=[\"price\", \"model\", \"transmission\", \"fuelType\"])\n",
    "y = data[\"price\"]\n",
    "\n",
    "X_train, X_test, y_train, y_test = train_test_split(X, y, test_size=0.2, random_state=42)\n",
    "\n",
    "model=DecisionTreeRegressor(random_state=42)\n",
    "model.fit(X_train,y_train)\n",
    "y_pred = model.predict(X_test)\n",
    "r2 = r2_score(y_test, y_pred)\n",
    "r2"
   ],
   "metadata": {
    "collapsed": false,
    "ExecuteTime": {
     "end_time": "2024-03-20T20:26:48.753301300Z",
     "start_time": "2024-03-20T20:26:48.431672600Z"
    }
   },
   "id": "9cf06c835aee023d",
   "execution_count": 3
  },
  {
   "cell_type": "code",
   "outputs": [
    {
     "data": {
      "text/plain": "            0         1\n0        year  0.239486\n1     mileage  0.066148\n2         tax  0.039614\n3         mpg  0.462504\n4  engineSize  0.192247",
      "text/html": "<div>\n<style scoped>\n    .dataframe tbody tr th:only-of-type {\n        vertical-align: middle;\n    }\n\n    .dataframe tbody tr th {\n        vertical-align: top;\n    }\n\n    .dataframe thead th {\n        text-align: right;\n    }\n</style>\n<table border=\"1\" class=\"dataframe\">\n  <thead>\n    <tr style=\"text-align: right;\">\n      <th></th>\n      <th>0</th>\n      <th>1</th>\n    </tr>\n  </thead>\n  <tbody>\n    <tr>\n      <th>0</th>\n      <td>year</td>\n      <td>0.239486</td>\n    </tr>\n    <tr>\n      <th>1</th>\n      <td>mileage</td>\n      <td>0.066148</td>\n    </tr>\n    <tr>\n      <th>2</th>\n      <td>tax</td>\n      <td>0.039614</td>\n    </tr>\n    <tr>\n      <th>3</th>\n      <td>mpg</td>\n      <td>0.462504</td>\n    </tr>\n    <tr>\n      <th>4</th>\n      <td>engineSize</td>\n      <td>0.192247</td>\n    </tr>\n  </tbody>\n</table>\n</div>"
     },
     "execution_count": 4,
     "metadata": {},
     "output_type": "execute_result"
    }
   ],
   "source": [
    "pd.DataFrame(zip(X_train.columns, model.feature_importances_))"
   ],
   "metadata": {
    "collapsed": false,
    "ExecuteTime": {
     "end_time": "2024-03-20T20:26:48.804012400Z",
     "start_time": "2024-03-20T20:26:48.744745Z"
    }
   },
   "id": "9b0a93c91b912cd6",
   "execution_count": 4
  },
  {
   "cell_type": "markdown",
   "source": [
    "## Выводы\n",
    "Можно заметить,что при выборе автомобиля важным признаком является расход топлива(mpg). Также важными факторами является год производства(year) и объем двигателя(engineSize).\n",
    "Однако налоги и пробег не являются важными факторами.\n",
    "Получена метрика 0.91"
   ],
   "metadata": {
    "collapsed": false
   },
   "id": "b2c1272808ddbe4a"
  },
  {
   "cell_type": "markdown",
   "source": [
    "## Normal"
   ],
   "metadata": {
    "collapsed": false
   },
   "id": "be0d880fb7ebbfda"
  },
  {
   "cell_type": "code",
   "outputs": [],
   "source": [
    "data_audi=pd.read_csv(\"audi.csv\")\n",
    "data_bmw=pd.read_csv(\"bmw.csv\")\n",
    "data_cclass=pd.read_csv(\"cclass.csv\")\n",
    "data_focus=pd.read_csv(\"focus.csv\")\n",
    "data_hyundi = pd.read_csv(\"hyundi.csv\")\n",
    "data_hyundi[\"tax\"]=data_hyundi[\"tax(£)\"]\n",
    "data_hyundi.drop(columns=[\"tax(£)\"], inplace=True)\n",
    "data_merc = pd.read_csv(\"merc.csv\")\n",
    "data_skoda = pd.read_csv(\"skoda.csv\")\n",
    "data_toyota = pd.read_csv(\"toyota.csv\")\n",
    "data_vauxhall = pd.read_csv(\"vauxhall.csv\")\n",
    "data_vw = pd.read_csv(\"vw.csv\")"
   ],
   "metadata": {
    "collapsed": false,
    "ExecuteTime": {
     "end_time": "2024-03-20T20:26:49.129770400Z",
     "start_time": "2024-03-20T20:26:48.775289900Z"
    }
   },
   "id": "332004a20f88cc34",
   "execution_count": 5
  },
  {
   "cell_type": "code",
   "outputs": [
    {
     "data": {
      "text/plain": "        model  year  price transmission  mileage fuelType   mpg  engineSize  \\\n0         I20  2017   7999       Manual    17307   Petrol  58.9         1.2   \n1      Tucson  2016  14499    Automatic    25233   Diesel  43.5         2.0   \n2      Tucson  2016  11399       Manual    37877   Diesel  61.7         1.7   \n3         I10  2016   6499       Manual    23789   Petrol  60.1         1.0   \n4        IX35  2015  10199       Manual    33177   Diesel  51.4         2.0   \n...       ...   ...    ...          ...      ...      ...   ...         ...   \n4855      I30  2016   8680       Manual    25906   Diesel  78.4         1.6   \n4856      I40  2015   7830       Manual    59508   Diesel  65.7         1.7   \n4857      I10  2017   6830       Manual    13810   Petrol  60.1         1.0   \n4858   Tucson  2018  13994       Manual    23313   Petrol  44.8         1.6   \n4859   Tucson  2016  15999    Automatic    11472   Diesel  57.6         1.7   \n\n      tax  \n0     145  \n1     235  \n2      30  \n3      20  \n4     160  \n...   ...  \n4855    0  \n4856   30  \n4857   20  \n4858  145  \n4859  125  \n\n[4860 rows x 9 columns]",
      "text/html": "<div>\n<style scoped>\n    .dataframe tbody tr th:only-of-type {\n        vertical-align: middle;\n    }\n\n    .dataframe tbody tr th {\n        vertical-align: top;\n    }\n\n    .dataframe thead th {\n        text-align: right;\n    }\n</style>\n<table border=\"1\" class=\"dataframe\">\n  <thead>\n    <tr style=\"text-align: right;\">\n      <th></th>\n      <th>model</th>\n      <th>year</th>\n      <th>price</th>\n      <th>transmission</th>\n      <th>mileage</th>\n      <th>fuelType</th>\n      <th>mpg</th>\n      <th>engineSize</th>\n      <th>tax</th>\n    </tr>\n  </thead>\n  <tbody>\n    <tr>\n      <th>0</th>\n      <td>I20</td>\n      <td>2017</td>\n      <td>7999</td>\n      <td>Manual</td>\n      <td>17307</td>\n      <td>Petrol</td>\n      <td>58.9</td>\n      <td>1.2</td>\n      <td>145</td>\n    </tr>\n    <tr>\n      <th>1</th>\n      <td>Tucson</td>\n      <td>2016</td>\n      <td>14499</td>\n      <td>Automatic</td>\n      <td>25233</td>\n      <td>Diesel</td>\n      <td>43.5</td>\n      <td>2.0</td>\n      <td>235</td>\n    </tr>\n    <tr>\n      <th>2</th>\n      <td>Tucson</td>\n      <td>2016</td>\n      <td>11399</td>\n      <td>Manual</td>\n      <td>37877</td>\n      <td>Diesel</td>\n      <td>61.7</td>\n      <td>1.7</td>\n      <td>30</td>\n    </tr>\n    <tr>\n      <th>3</th>\n      <td>I10</td>\n      <td>2016</td>\n      <td>6499</td>\n      <td>Manual</td>\n      <td>23789</td>\n      <td>Petrol</td>\n      <td>60.1</td>\n      <td>1.0</td>\n      <td>20</td>\n    </tr>\n    <tr>\n      <th>4</th>\n      <td>IX35</td>\n      <td>2015</td>\n      <td>10199</td>\n      <td>Manual</td>\n      <td>33177</td>\n      <td>Diesel</td>\n      <td>51.4</td>\n      <td>2.0</td>\n      <td>160</td>\n    </tr>\n    <tr>\n      <th>...</th>\n      <td>...</td>\n      <td>...</td>\n      <td>...</td>\n      <td>...</td>\n      <td>...</td>\n      <td>...</td>\n      <td>...</td>\n      <td>...</td>\n      <td>...</td>\n    </tr>\n    <tr>\n      <th>4855</th>\n      <td>I30</td>\n      <td>2016</td>\n      <td>8680</td>\n      <td>Manual</td>\n      <td>25906</td>\n      <td>Diesel</td>\n      <td>78.4</td>\n      <td>1.6</td>\n      <td>0</td>\n    </tr>\n    <tr>\n      <th>4856</th>\n      <td>I40</td>\n      <td>2015</td>\n      <td>7830</td>\n      <td>Manual</td>\n      <td>59508</td>\n      <td>Diesel</td>\n      <td>65.7</td>\n      <td>1.7</td>\n      <td>30</td>\n    </tr>\n    <tr>\n      <th>4857</th>\n      <td>I10</td>\n      <td>2017</td>\n      <td>6830</td>\n      <td>Manual</td>\n      <td>13810</td>\n      <td>Petrol</td>\n      <td>60.1</td>\n      <td>1.0</td>\n      <td>20</td>\n    </tr>\n    <tr>\n      <th>4858</th>\n      <td>Tucson</td>\n      <td>2018</td>\n      <td>13994</td>\n      <td>Manual</td>\n      <td>23313</td>\n      <td>Petrol</td>\n      <td>44.8</td>\n      <td>1.6</td>\n      <td>145</td>\n    </tr>\n    <tr>\n      <th>4859</th>\n      <td>Tucson</td>\n      <td>2016</td>\n      <td>15999</td>\n      <td>Automatic</td>\n      <td>11472</td>\n      <td>Diesel</td>\n      <td>57.6</td>\n      <td>1.7</td>\n      <td>125</td>\n    </tr>\n  </tbody>\n</table>\n<p>4860 rows × 9 columns</p>\n</div>"
     },
     "execution_count": 6,
     "metadata": {},
     "output_type": "execute_result"
    }
   ],
   "source": [
    "data_hyundi"
   ],
   "metadata": {
    "collapsed": false,
    "ExecuteTime": {
     "end_time": "2024-03-20T20:26:49.192017400Z",
     "start_time": "2024-03-20T20:26:49.083096600Z"
    }
   },
   "id": "a097dad862b969e8",
   "execution_count": 6
  },
  {
   "cell_type": "code",
   "outputs": [
    {
     "name": "stdout",
     "output_type": "stream",
     "text": [
      "      model  year  price transmission  mileage fuelType    tax   mpg  \\\n",
      "0        A1  2017  12500       Manual    15735   Petrol  150.0  55.4   \n",
      "1        A6  2016  16500    Automatic    36203   Diesel   20.0  64.2   \n",
      "2        A1  2016  11000       Manual    29946   Petrol   30.0  55.4   \n",
      "3        A4  2017  16800    Automatic    25952   Diesel  145.0  67.3   \n",
      "4        A3  2019  17300       Manual     1998   Petrol  145.0  49.6   \n",
      "...     ...   ...    ...          ...      ...      ...    ...   ...   \n",
      "90570   Eos  2012   5990       Manual    74000   Diesel  125.0  58.9   \n",
      "90571   Fox  2008   1799       Manual    88102   Petrol  145.0  46.3   \n",
      "90572   Fox  2009   1590       Manual    70000   Petrol  200.0  42.0   \n",
      "90573   Fox  2006   1250       Manual    82704   Petrol  150.0  46.3   \n",
      "90574   Fox  2007   2295       Manual    74000   Petrol  145.0  46.3   \n",
      "\n",
      "       engineSize  \n",
      "0             1.4  \n",
      "1             2.0  \n",
      "2             1.4  \n",
      "3             2.0  \n",
      "4             1.0  \n",
      "...           ...  \n",
      "90570         2.0  \n",
      "90571         1.2  \n",
      "90572         1.4  \n",
      "90573         1.2  \n",
      "90574         1.2  \n",
      "\n",
      "[90575 rows x 9 columns]\n"
     ]
    }
   ],
   "source": [
    "dfs = [data_audi, data_bmw, data_cclass, data_focus, data_hyundi, data_merc, data_skoda, data_toyota, data_vauxhall, data_vw]\n",
    "merged_data = pd.concat(dfs, ignore_index=True)\n",
    "print(merged_data)"
   ],
   "metadata": {
    "collapsed": false,
    "ExecuteTime": {
     "end_time": "2024-03-20T20:26:49.261155600Z",
     "start_time": "2024-03-20T20:26:49.143770300Z"
    }
   },
   "id": "4a22ce6e6badba19",
   "execution_count": 7
  },
  {
   "cell_type": "code",
   "outputs": [],
   "source": [
    "dummy_df = pd.get_dummies(data=merged_data, columns=[\"transmission\", \"fuelType\", \"model\"], drop_first=True)\n",
    "dummy_df = dummy_df.dropna()"
   ],
   "metadata": {
    "collapsed": false,
    "ExecuteTime": {
     "end_time": "2024-03-20T20:26:49.675588300Z",
     "start_time": "2024-03-20T20:26:49.231471500Z"
    }
   },
   "id": "940fcf53e608d6ac",
   "execution_count": 8
  },
  {
   "cell_type": "code",
   "outputs": [
    {
     "data": {
      "text/plain": "       year  mileage    tax   mpg  engineSize  transmission_Manual  \\\n88539  2015    63004   20.0  55.4         2.0                 True   \n14405  2019     7729  150.0  40.4         1.5                False   \n5914   2019     8499  145.0  48.7         2.0                False   \n55794  2017    28952   20.0  55.4         2.5                False   \n19144  2018    14449  145.0  48.7         2.0                False   \n\n       transmission_Other  transmission_Semi-Auto  fuelType_Electric  \\\n88539               False                   False              False   \n14405               False                    True              False   \n5914                False                   False              False   \n55794               False                   False              False   \n19144               False                   False              False   \n\n       fuelType_Hybrid  ...  model_ Z3  model_ Z4  model_ Zafira  \\\n88539            False  ...      False      False          False   \n14405            False  ...      False      False          False   \n5914             False  ...      False      False          False   \n55794             True  ...      False      False          False   \n19144            False  ...      False      False          False   \n\n       model_ Zafira Tourer  model_ i3  model_ i8  model_180  model_200  \\\n88539                 False      False      False      False      False   \n14405                 False      False      False      False      False   \n5914                  False      False      False      False      False   \n55794                 False      False      False      False      False   \n19144                 False      False      False      False      False   \n\n       model_220  model_230  \n88539      False      False  \n14405      False      False  \n5914       False      False  \n55794      False      False  \n19144      False      False  \n\n[5 rows x 184 columns]",
      "text/html": "<div>\n<style scoped>\n    .dataframe tbody tr th:only-of-type {\n        vertical-align: middle;\n    }\n\n    .dataframe tbody tr th {\n        vertical-align: top;\n    }\n\n    .dataframe thead th {\n        text-align: right;\n    }\n</style>\n<table border=\"1\" class=\"dataframe\">\n  <thead>\n    <tr style=\"text-align: right;\">\n      <th></th>\n      <th>year</th>\n      <th>mileage</th>\n      <th>tax</th>\n      <th>mpg</th>\n      <th>engineSize</th>\n      <th>transmission_Manual</th>\n      <th>transmission_Other</th>\n      <th>transmission_Semi-Auto</th>\n      <th>fuelType_Electric</th>\n      <th>fuelType_Hybrid</th>\n      <th>...</th>\n      <th>model_ Z3</th>\n      <th>model_ Z4</th>\n      <th>model_ Zafira</th>\n      <th>model_ Zafira Tourer</th>\n      <th>model_ i3</th>\n      <th>model_ i8</th>\n      <th>model_180</th>\n      <th>model_200</th>\n      <th>model_220</th>\n      <th>model_230</th>\n    </tr>\n  </thead>\n  <tbody>\n    <tr>\n      <th>88539</th>\n      <td>2015</td>\n      <td>63004</td>\n      <td>20.0</td>\n      <td>55.4</td>\n      <td>2.0</td>\n      <td>True</td>\n      <td>False</td>\n      <td>False</td>\n      <td>False</td>\n      <td>False</td>\n      <td>...</td>\n      <td>False</td>\n      <td>False</td>\n      <td>False</td>\n      <td>False</td>\n      <td>False</td>\n      <td>False</td>\n      <td>False</td>\n      <td>False</td>\n      <td>False</td>\n      <td>False</td>\n    </tr>\n    <tr>\n      <th>14405</th>\n      <td>2019</td>\n      <td>7729</td>\n      <td>150.0</td>\n      <td>40.4</td>\n      <td>1.5</td>\n      <td>False</td>\n      <td>False</td>\n      <td>True</td>\n      <td>False</td>\n      <td>False</td>\n      <td>...</td>\n      <td>False</td>\n      <td>False</td>\n      <td>False</td>\n      <td>False</td>\n      <td>False</td>\n      <td>False</td>\n      <td>False</td>\n      <td>False</td>\n      <td>False</td>\n      <td>False</td>\n    </tr>\n    <tr>\n      <th>5914</th>\n      <td>2019</td>\n      <td>8499</td>\n      <td>145.0</td>\n      <td>48.7</td>\n      <td>2.0</td>\n      <td>False</td>\n      <td>False</td>\n      <td>False</td>\n      <td>False</td>\n      <td>False</td>\n      <td>...</td>\n      <td>False</td>\n      <td>False</td>\n      <td>False</td>\n      <td>False</td>\n      <td>False</td>\n      <td>False</td>\n      <td>False</td>\n      <td>False</td>\n      <td>False</td>\n      <td>False</td>\n    </tr>\n    <tr>\n      <th>55794</th>\n      <td>2017</td>\n      <td>28952</td>\n      <td>20.0</td>\n      <td>55.4</td>\n      <td>2.5</td>\n      <td>False</td>\n      <td>False</td>\n      <td>False</td>\n      <td>False</td>\n      <td>True</td>\n      <td>...</td>\n      <td>False</td>\n      <td>False</td>\n      <td>False</td>\n      <td>False</td>\n      <td>False</td>\n      <td>False</td>\n      <td>False</td>\n      <td>False</td>\n      <td>False</td>\n      <td>False</td>\n    </tr>\n    <tr>\n      <th>19144</th>\n      <td>2018</td>\n      <td>14449</td>\n      <td>145.0</td>\n      <td>48.7</td>\n      <td>2.0</td>\n      <td>False</td>\n      <td>False</td>\n      <td>False</td>\n      <td>False</td>\n      <td>False</td>\n      <td>...</td>\n      <td>False</td>\n      <td>False</td>\n      <td>False</td>\n      <td>False</td>\n      <td>False</td>\n      <td>False</td>\n      <td>False</td>\n      <td>False</td>\n      <td>False</td>\n      <td>False</td>\n    </tr>\n  </tbody>\n</table>\n<p>5 rows × 184 columns</p>\n</div>"
     },
     "execution_count": 9,
     "metadata": {},
     "output_type": "execute_result"
    }
   ],
   "source": [
    "X_train, X_test, y_train, y_test = train_test_split(dummy_df.drop(columns=[\"price\"]), dummy_df[\"price\"],test_size=0.2)\n",
    "X_train.head()"
   ],
   "metadata": {
    "collapsed": false,
    "ExecuteTime": {
     "end_time": "2024-03-20T20:26:49.939323500Z",
     "start_time": "2024-03-20T20:26:49.657329800Z"
    }
   },
   "id": "4f61f605d2a84c35",
   "execution_count": 9
  },
  {
   "cell_type": "markdown",
   "source": [
    "Поскольку 2^17 больше размера данных,то хватит глубины 17."
   ],
   "metadata": {
    "collapsed": false
   },
   "id": "c93a48681bed079e"
  },
  {
   "cell_type": "code",
   "outputs": [],
   "source": [
    "dt_params = {\n",
    "    'max_depth': [5, 7, 10, 12, 15, 16, 17],\n",
    "    'max_leaf_nodes': [None, 10, 25, 50, 100,500]\n",
    "}"
   ],
   "metadata": {
    "collapsed": false,
    "ExecuteTime": {
     "end_time": "2024-03-20T20:26:49.958705200Z",
     "start_time": "2024-03-20T20:26:49.939408800Z"
    }
   },
   "id": "88330814b2e01be8",
   "execution_count": 10
  },
  {
   "cell_type": "code",
   "outputs": [],
   "source": [
    "model=DecisionTreeRegressor()"
   ],
   "metadata": {
    "collapsed": false,
    "ExecuteTime": {
     "end_time": "2024-03-20T20:26:49.960704900Z",
     "start_time": "2024-03-20T20:26:49.949842900Z"
    }
   },
   "id": "71e0f339dfd9bf61",
   "execution_count": 11
  },
  {
   "cell_type": "code",
   "outputs": [
    {
     "data": {
      "text/plain": "DecisionTreeRegressor(max_depth=15)",
      "text/html": "<style>#sk-container-id-1 {color: black;background-color: white;}#sk-container-id-1 pre{padding: 0;}#sk-container-id-1 div.sk-toggleable {background-color: white;}#sk-container-id-1 label.sk-toggleable__label {cursor: pointer;display: block;width: 100%;margin-bottom: 0;padding: 0.3em;box-sizing: border-box;text-align: center;}#sk-container-id-1 label.sk-toggleable__label-arrow:before {content: \"▸\";float: left;margin-right: 0.25em;color: #696969;}#sk-container-id-1 label.sk-toggleable__label-arrow:hover:before {color: black;}#sk-container-id-1 div.sk-estimator:hover label.sk-toggleable__label-arrow:before {color: black;}#sk-container-id-1 div.sk-toggleable__content {max-height: 0;max-width: 0;overflow: hidden;text-align: left;background-color: #f0f8ff;}#sk-container-id-1 div.sk-toggleable__content pre {margin: 0.2em;color: black;border-radius: 0.25em;background-color: #f0f8ff;}#sk-container-id-1 input.sk-toggleable__control:checked~div.sk-toggleable__content {max-height: 200px;max-width: 100%;overflow: auto;}#sk-container-id-1 input.sk-toggleable__control:checked~label.sk-toggleable__label-arrow:before {content: \"▾\";}#sk-container-id-1 div.sk-estimator input.sk-toggleable__control:checked~label.sk-toggleable__label {background-color: #d4ebff;}#sk-container-id-1 div.sk-label input.sk-toggleable__control:checked~label.sk-toggleable__label {background-color: #d4ebff;}#sk-container-id-1 input.sk-hidden--visually {border: 0;clip: rect(1px 1px 1px 1px);clip: rect(1px, 1px, 1px, 1px);height: 1px;margin: -1px;overflow: hidden;padding: 0;position: absolute;width: 1px;}#sk-container-id-1 div.sk-estimator {font-family: monospace;background-color: #f0f8ff;border: 1px dotted black;border-radius: 0.25em;box-sizing: border-box;margin-bottom: 0.5em;}#sk-container-id-1 div.sk-estimator:hover {background-color: #d4ebff;}#sk-container-id-1 div.sk-parallel-item::after {content: \"\";width: 100%;border-bottom: 1px solid gray;flex-grow: 1;}#sk-container-id-1 div.sk-label:hover label.sk-toggleable__label {background-color: #d4ebff;}#sk-container-id-1 div.sk-serial::before {content: \"\";position: absolute;border-left: 1px solid gray;box-sizing: border-box;top: 0;bottom: 0;left: 50%;z-index: 0;}#sk-container-id-1 div.sk-serial {display: flex;flex-direction: column;align-items: center;background-color: white;padding-right: 0.2em;padding-left: 0.2em;position: relative;}#sk-container-id-1 div.sk-item {position: relative;z-index: 1;}#sk-container-id-1 div.sk-parallel {display: flex;align-items: stretch;justify-content: center;background-color: white;position: relative;}#sk-container-id-1 div.sk-item::before, #sk-container-id-1 div.sk-parallel-item::before {content: \"\";position: absolute;border-left: 1px solid gray;box-sizing: border-box;top: 0;bottom: 0;left: 50%;z-index: -1;}#sk-container-id-1 div.sk-parallel-item {display: flex;flex-direction: column;z-index: 1;position: relative;background-color: white;}#sk-container-id-1 div.sk-parallel-item:first-child::after {align-self: flex-end;width: 50%;}#sk-container-id-1 div.sk-parallel-item:last-child::after {align-self: flex-start;width: 50%;}#sk-container-id-1 div.sk-parallel-item:only-child::after {width: 0;}#sk-container-id-1 div.sk-dashed-wrapped {border: 1px dashed gray;margin: 0 0.4em 0.5em 0.4em;box-sizing: border-box;padding-bottom: 0.4em;background-color: white;}#sk-container-id-1 div.sk-label label {font-family: monospace;font-weight: bold;display: inline-block;line-height: 1.2em;}#sk-container-id-1 div.sk-label-container {text-align: center;}#sk-container-id-1 div.sk-container {/* jupyter's `normalize.less` sets `[hidden] { display: none; }` but bootstrap.min.css set `[hidden] { display: none !important; }` so we also need the `!important` here to be able to override the default hidden behavior on the sphinx rendered scikit-learn.org. See: https://github.com/scikit-learn/scikit-learn/issues/21755 */display: inline-block !important;position: relative;}#sk-container-id-1 div.sk-text-repr-fallback {display: none;}</style><div id=\"sk-container-id-1\" class=\"sk-top-container\"><div class=\"sk-text-repr-fallback\"><pre>DecisionTreeRegressor(max_depth=15)</pre><b>In a Jupyter environment, please rerun this cell to show the HTML representation or trust the notebook. <br />On GitHub, the HTML representation is unable to render, please try loading this page with nbviewer.org.</b></div><div class=\"sk-container\" hidden><div class=\"sk-item\"><div class=\"sk-estimator sk-toggleable\"><input class=\"sk-toggleable__control sk-hidden--visually\" id=\"sk-estimator-id-1\" type=\"checkbox\" checked><label for=\"sk-estimator-id-1\" class=\"sk-toggleable__label sk-toggleable__label-arrow\">DecisionTreeRegressor</label><div class=\"sk-toggleable__content\"><pre>DecisionTreeRegressor(max_depth=15)</pre></div></div></div></div></div>"
     },
     "execution_count": 12,
     "metadata": {},
     "output_type": "execute_result"
    }
   ],
   "source": [
    "from sklearn.model_selection import RandomizedSearchCV\n",
    "search = RandomizedSearchCV(model, dt_params, scoring='r2')\n",
    "search.fit(X_train, y_train)\n",
    "search.best_estimator_"
   ],
   "metadata": {
    "collapsed": false,
    "ExecuteTime": {
     "end_time": "2024-03-20T20:27:45.866948Z",
     "start_time": "2024-03-20T20:26:49.959704200Z"
    }
   },
   "id": "4fe12dfcad8dc6ce",
   "execution_count": 12
  },
  {
   "cell_type": "code",
   "outputs": [
    {
     "data": {
      "text/plain": "0.9299646931382162"
     },
     "execution_count": 13,
     "metadata": {},
     "output_type": "execute_result"
    }
   ],
   "source": [
    "model=DecisionTreeRegressor(max_depth=15)\n",
    "model.fit(X_train, y_train)\n",
    "y_pred=model.predict(X_test)\n",
    "r2 = r2_score(y_test, y_pred)\n",
    "r2"
   ],
   "metadata": {
    "collapsed": false,
    "ExecuteTime": {
     "end_time": "2024-03-20T20:27:47.515792900Z",
     "start_time": "2024-03-20T20:27:45.843821100Z"
    }
   },
   "id": "13bd5b71f1ee2adb",
   "execution_count": 13
  },
  {
   "cell_type": "code",
   "outputs": [
    {
     "name": "stdout",
     "output_type": "stream",
     "text": [
      "Model 0 better than 8 models.\n",
      "Model 1 better than 6 models.\n",
      "Model 2 better than 1 models.\n",
      "Model 3 better than 1 models.\n",
      "Model 4 better than 0 models.\n",
      "Model 5 better than 7 models.\n",
      "Model 6 better than 1 models.\n",
      "Model 7 better than 1 models.\n",
      "Model 8 better than 1 models.\n",
      "Model 9 better than 9 models.\n"
     ]
    }
   ],
   "source": [
    "from scipy.stats import ttest_ind\n",
    "\n",
    "splits_test_scores = [search.cv_results_[f\"split{i}_test_score\"] for i in range(5)]\n",
    "cvs = tuple(zip(*splits_test_scores))\n",
    "\n",
    "for n in range(10):\n",
    "    models_beated = len([ttest_ind(cvs[n], cvs[i], alternative='greater')[1] for i in range(10) if ttest_ind(cvs[n], cvs[i], alternative='greater')[1] <= 0.05])\n",
    "    print(f\"Model {n} better than {models_beated} models.\")"
   ],
   "metadata": {
    "collapsed": false,
    "ExecuteTime": {
     "end_time": "2024-03-20T20:27:47.702888500Z",
     "start_time": "2024-03-20T20:27:47.510568200Z"
    }
   },
   "id": "ff4abe2cff472058",
   "execution_count": 14
  },
  {
   "cell_type": "markdown",
   "source": [
    "Тест Стьюдента выдал,что модели 9 лучше других"
   ],
   "metadata": {
    "collapsed": false
   },
   "id": "cd7a4ac96a6315e7"
  },
  {
   "cell_type": "code",
   "outputs": [],
   "source": [],
   "metadata": {
    "collapsed": false,
    "ExecuteTime": {
     "end_time": "2024-03-20T20:27:47.725854200Z",
     "start_time": "2024-03-20T20:27:47.708435500Z"
    }
   },
   "id": "b4157f33efd88249",
   "execution_count": 14
  }
 ],
 "metadata": {
  "kernelspec": {
   "display_name": "Python 3",
   "language": "python",
   "name": "python3"
  },
  "language_info": {
   "codemirror_mode": {
    "name": "ipython",
    "version": 2
   },
   "file_extension": ".py",
   "mimetype": "text/x-python",
   "name": "python",
   "nbconvert_exporter": "python",
   "pygments_lexer": "ipython2",
   "version": "2.7.6"
  }
 },
 "nbformat": 4,
 "nbformat_minor": 5
}
